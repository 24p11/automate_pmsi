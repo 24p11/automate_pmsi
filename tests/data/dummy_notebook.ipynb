{
 "cells": [
  {
   "cell_type": "code",
   "execution_count": 1,
   "metadata": {},
   "outputs": [
    {
     "name": "stdout",
     "output_type": "stream",
     "text": [
      "Train on 90 samples, validate on 10 samples\n",
      "Epoch 1/2\n",
      "90/90 [==============================] - 1s 10ms/sample - loss: 0.0000e+00 - accuracy: 0.4889 - val_loss: 0.0000e+00 - val_accuracy: 0.4000\n",
      "Epoch 2/2\n",
      "90/90 [==============================] - 0s 2ms/sample - loss: 0.0000e+00 - accuracy: 0.4889 - val_loss: 0.0000e+00 - val_accuracy: 0.4000\n"
     ]
    },
    {
     "data": {
      "text/plain": [
       "<tensorflow.python.keras.callbacks.History at 0x7f1b60181160>"
      ]
     },
     "execution_count": 1,
     "metadata": {},
     "output_type": "execute_result"
    }
   ],
   "source": [
    "from tensorflow import keras\n",
    "import numpy as np\n",
    "\n",
    "model = keras.Sequential([keras.layers.Dense(1, activation='softmax')])\n",
    "model.compile(metrics=['accuracy'], loss='categorical_crossentropy', optimizer='sgd')\n",
    "\n",
    "model.fit(np.random.randn(100, 5), np.random.choice([0, 1], size=100), epochs=2, validation_split=0.1)"
   ]
  },
  {
   "cell_type": "code",
   "execution_count": null,
   "metadata": {},
   "outputs": [],
   "source": []
  }
 ],
 "metadata": {
  "kernelspec": {
   "display_name": "TF-Bert",
   "language": "python",
   "name": "python3-tf-bert"
  },
  "language_info": {
   "codemirror_mode": {
    "name": "ipython",
    "version": 3
   },
   "file_extension": ".py",
   "mimetype": "text/x-python",
   "name": "python",
   "nbconvert_exporter": "python",
   "pygments_lexer": "ipython3",
   "version": "3.7.0"
  }
 },
 "nbformat": 4,
 "nbformat_minor": 2
}
